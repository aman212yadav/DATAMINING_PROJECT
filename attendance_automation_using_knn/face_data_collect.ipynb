{
 "cells": [
  {
   "cell_type": "code",
   "execution_count": 4,
   "metadata": {},
   "outputs": [],
   "source": [
    "import numpy as np\n",
    "import cv2"
   ]
  },
  {
   "cell_type": "code",
   "execution_count": 14,
   "metadata": {},
   "outputs": [
    {
     "name": "stdout",
     "output_type": "stream",
     "text": [
      "Enter student roll no : 171210007\n"
     ]
    }
   ],
   "source": [
    "rollno=input('Enter student roll no : ')"
   ]
  },
  {
   "cell_type": "code",
   "execution_count": 15,
   "metadata": {},
   "outputs": [],
   "source": [
    "cascade=cv2.CascadeClassifier(\"haarcascade_frontalface_default.xml\") \n",
    "cap=cv2.VideoCapture(0)"
   ]
  },
  {
   "cell_type": "code",
   "execution_count": 16,
   "metadata": {},
   "outputs": [
    {
     "name": "stdout",
     "output_type": "stream",
     "text": [
      "total images taken :  1\n",
      "total images taken :  2\n",
      "total images taken :  3\n",
      "total images taken :  4\n",
      "total images taken :  5\n",
      "total images taken :  6\n",
      "total images taken :  7\n",
      "total images taken :  8\n",
      "total images taken :  9\n",
      "total images taken :  10\n",
      "total images taken :  11\n",
      "total images taken :  12\n",
      "total images taken :  13\n",
      "total images taken :  14\n",
      "total images taken :  15\n",
      "total images taken :  16\n",
      "total images taken :  17\n",
      "total images taken :  18\n",
      "total images taken :  19\n",
      "total images taken :  20\n",
      "total images taken :  21\n",
      "total images taken :  22\n",
      "total images taken :  23\n",
      "total images taken :  24\n",
      "total images taken :  25\n",
      "total images taken :  26\n",
      "total images taken :  27\n",
      "total images taken :  28\n",
      "total images taken :  29\n",
      "total images taken :  30\n",
      "total images taken :  31\n"
     ]
    }
   ],
   "source": [
    "face_data=[]\n",
    "skip=0\n",
    "count=0\n",
    "while True:\n",
    "    ret,frame=cap.read()\n",
    "    if not ret:\n",
    "        continue\n",
    "    faces=cascade.detectMultiScale(frame, 1.3, 4)\n",
    "    faces=sorted(faces,key=lambda k :k[2]*k[3])\n",
    "    for (x,y,w,h) in faces[-1:]:\n",
    "        cv2.rectangle(frame,(x,y),(x+w,y+h),(255,0,0),2)\n",
    "        offset=10\n",
    "        face_section=frame[y-offset:y+h+offset,x-offset:x+offset+w]\n",
    "        face_section=cv2.resize(face_section,(100,100),interpolation = cv2.INTER_AREA)\n",
    "        if skip%10==0:\n",
    "            face_data.append(face_section)\n",
    "            count+=1\n",
    "            print(\"total images taken : \",count) \n",
    "            \n",
    "    skip+=1\n",
    "    cv2.imshow(\"frame2\",face_section)    \n",
    "    cv2.imshow(\"frame1\",frame)    \n",
    "    if cv2.waitKey(1) & 0xFF == ord('q'):\n",
    "        break\n",
    "cap.release()    \n",
    "cv2.destroyAllWindows()     \n",
    "            \n"
   ]
  },
  {
   "cell_type": "code",
   "execution_count": 17,
   "metadata": {},
   "outputs": [],
   "source": [
    "face_data=np.array(face_data)"
   ]
  },
  {
   "cell_type": "code",
   "execution_count": 18,
   "metadata": {},
   "outputs": [],
   "source": [
    "face_data=face_data.reshape(face_data.shape[0],-1)\n",
    "\n",
    "np.save('dataset/'+rollno+'.npy',face_data)"
   ]
  },
  {
   "cell_type": "code",
   "execution_count": 1,
   "metadata": {},
   "outputs": [],
   "source": [
    "p=[1,2,3]"
   ]
  },
  {
   "cell_type": "code",
   "execution_count": 6,
   "metadata": {},
   "outputs": [
    {
     "data": {
      "text/plain": [
       "3"
      ]
     },
     "execution_count": 6,
     "metadata": {},
     "output_type": "execute_result"
    }
   ],
   "source": [
    "np.array(p).shape[0]"
   ]
  },
  {
   "cell_type": "code",
   "execution_count": null,
   "metadata": {},
   "outputs": [],
   "source": []
  }
 ],
 "metadata": {
  "kernelspec": {
   "display_name": "Python 3",
   "language": "python",
   "name": "python3"
  },
  "language_info": {
   "codemirror_mode": {
    "name": "ipython",
    "version": 3
   },
   "file_extension": ".py",
   "mimetype": "text/x-python",
   "name": "python",
   "nbconvert_exporter": "python",
   "pygments_lexer": "ipython3",
   "version": "3.7.1"
  }
 },
 "nbformat": 4,
 "nbformat_minor": 2
}
