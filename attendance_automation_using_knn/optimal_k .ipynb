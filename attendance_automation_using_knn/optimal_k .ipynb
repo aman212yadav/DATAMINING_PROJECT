{
 "cells": [
  {
   "cell_type": "code",
   "execution_count": 1,
   "metadata": {},
   "outputs": [
    {
     "name": "stderr",
     "output_type": "stream",
     "text": [
      "Using TensorFlow backend.\n"
     ]
    }
   ],
   "source": [
    "from keras.preprocessing.image import load_img\n",
    "from keras.preprocessing.image import save_img\n",
    "from keras.preprocessing.image import img_to_array\n",
    "from sklearn.neighbors import KNeighborsClassifier\n",
    "from sklearn.utils import shuffle\n",
    "from sklearn.metrics import accuracy_score\n",
    "import numpy as np\n",
    "import os\n",
    "import matplotlib.pyplot as plt "
   ]
  },
  {
   "cell_type": "code",
   "execution_count": null,
   "metadata": {},
   "outputs": [],
   "source": [
    "x_valid=[]\n",
    "y_valid=[]\n",
    "for f in os.listdir('dataset/valid'):\n",
    "    print(f)\n",
    "    for filename in os.listdir('dataset/valid/'+f):\n",
    "        img=load_img('dataset/valid/'+f+'/'+filename)\n",
    "        img=img.resize( (100,100))\n",
    "        img=img_to_array(img)\n",
    "        x_valid.append(img)\n",
    "        y_valid.append(f)\n",
    "        \n",
    "        \n",
    "        \n",
    "x_train=[]\n",
    "y_train=[]\n",
    "for f in os.listdir('dataset/train'):\n",
    "    print(f)\n",
    "    for filename in os.listdir('dataset/train/'+f):\n",
    "        img=load_img('dataset/train/'+f+'/'+filename)\n",
    "        img=img.resize( (100,100))\n",
    "        img=img_to_array(img)\n",
    "        print(img.shape)\n",
    "        x_train.append(img)\n",
    "        y_train.append(f)\n",
    "        \n",
    "        \n",
    "\n",
    "def accuracy(y1,y2):\n",
    "    return np.sum(y1==y2)/y1.shape[0]\n",
    "\n",
    "\n",
    "\n",
    "\n",
    "x_valid=np.array(x_valid).reshape(-1,30000)\n",
    "y_valid=np.array(y_valid)\n",
    "\n",
    "x_valid,y_valid=shuffle(x_valid,y_valid)\n",
    "\n",
    "x_train=np.array(x_train).reshape(-1,30000)\n",
    "y_train=np.array(y_train)\n",
    "x_train,y_train=shuffle(x_train,y_train)\n",
    "\n",
    "\n",
    "print(x_valid.shape)\n",
    "\n",
    "loss=[]\n",
    "\n",
    "for k in range(3,10,1):\n",
    "    neigh = KNeighborsClassifier(n_neighbors=k)\n",
    "    neigh.fit(x_train, y_train)\n",
    "    y_pred=neigh.predict(x_valid)\n",
    "    loss.append(accuracy(y_valid, y_pred))\n",
    "\n",
    "            \n",
    "        "
   ]
  }
 ],
 "metadata": {
  "kernelspec": {
   "display_name": "Python 3",
   "language": "python",
   "name": "python3"
  },
  "language_info": {
   "codemirror_mode": {
    "name": "ipython",
    "version": 3
   },
   "file_extension": ".py",
   "mimetype": "text/x-python",
   "name": "python",
   "nbconvert_exporter": "python",
   "pygments_lexer": "ipython3",
   "version": "3.7.1"
  }
 },
 "nbformat": 4,
 "nbformat_minor": 2
}
