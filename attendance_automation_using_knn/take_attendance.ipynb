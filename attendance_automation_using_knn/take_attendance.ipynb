{
 "cells": [
  {
   "cell_type": "code",
   "execution_count": 1,
   "metadata": {},
   "outputs": [
    {
     "name": "stderr",
     "output_type": "stream",
     "text": [
      "Using TensorFlow backend.\n"
     ]
    },
    {
     "name": "stdout",
     "output_type": "stream",
     "text": [
      "Today's date: 2020-04-14\n",
      "attendance taken successfully\n"
     ]
    }
   ],
   "source": [
    "from keras.preprocessing.image import load_img\n",
    "from keras.preprocessing.image import save_img\n",
    "from keras.preprocessing.image import img_to_array\n",
    "from sklearn.neighbors import KNeighborsClassifier\n",
    "from sklearn.utils import shuffle\n",
    "from sklearn.metrics import accuracy_score\n",
    "import numpy as np\n",
    "import os\n",
    "import matplotlib.pyplot as plt \n",
    "from datetime import date\n",
    "import pandas as pd\n",
    "import numpy as np\n",
    "import cv2\n",
    "\n",
    "\n",
    "cascade=cv2.CascadeClassifier(\"haarcascade_frontalface_default.xml\") \n",
    "cap=cv2.VideoCapture(0)\n",
    "\n",
    "x_train=[]\n",
    "y_train=[]\n",
    "for f in os.listdir('dataset/train'):\n",
    "    for filename in os.listdir('dataset/train/'+f):\n",
    "        img=load_img('dataset/train/'+f+'/'+filename)\n",
    "        img=img.resize( (100,100))\n",
    "        img=img_to_array(img)\n",
    "        x_train.append(img)\n",
    "        y_train.append(f)\n",
    "\n",
    "\n",
    "\n",
    "x_train=np.array(x_train).reshape(-1,30000)\n",
    "y_train=np.array(y_train)\n",
    "x_train,y_train=shuffle(x_train,y_train)\n",
    "\n",
    "model = KNeighborsClassifier(n_neighbors=10)\n",
    "model.fit(x_train, y_train)\n",
    "\n",
    "\n",
    "\n",
    "\n",
    "\n",
    "present_student=set()\n",
    "while True:\n",
    "    ret,frame=cap.read()\n",
    "    if not ret:\n",
    "        continue\n",
    "    faces=cascade.detectMultiScale(frame, 1.3, 4)\n",
    "    faces=sorted(faces,key=lambda k :k[2]*k[3])\n",
    "    for (x,y,w,h) in faces[-1:]:\n",
    "        cv2.rectangle(frame,(x,y),(x+w,y+h),(255,0,0),2)\n",
    "        offset=10\n",
    "        face_section=frame[y-offset:y+h+offset,x-offset:x+offset+w]\n",
    "        face_section=cv2.resize(face_section,(100,100),interpolation = cv2.INTER_AREA)\n",
    "        face=np.array(face_section).reshape(-1,30000)\n",
    "        prediction=model.predict(face)\n",
    "        \n",
    "        # face section is (100,100,3) size image  use ur model to make prediction \n",
    "        # prediction = model.predict()   omprakash make prediction using ur model\n",
    "        # now store ur prediction in set i.e present_student\n",
    "        present_student.add(prediction[0])\n",
    "        \n",
    "        frame = cv2.putText(frame, prediction[0], (50, 50) , cv2.FONT_HERSHEY_SIMPLEX , 1,(255,0,0), 2, cv2.LINE_AA) \n",
    "    cv2.imshow(\"frame1\",frame)    \n",
    "    if cv2.waitKey(1) & 0xFF == ord('q'):     # press q to stop taking attendance\n",
    "        break\n",
    "cap.release()    \n",
    "cv2.destroyAllWindows()     \n",
    "\n",
    "\n",
    "\n",
    "present_student=np.array(list(present_student))\n",
    "present_student=present_student.reshape(present_student.shape[0],-1)\n",
    "df = pd.DataFrame (present_student)\n",
    "# here  storing present_student data in excel file\n",
    "today = date.today()                    \n",
    "print(\"Today's date:\", today)\n",
    "file_path='attendance/'+today.strftime(\"%d-%m-%Y\")+'.xlsx'\n",
    "df.to_excel(file_path, index=False,header=['roll no'])\n",
    "\n",
    "print('attendance taken successfully')\n"
   ]
  },
  {
   "cell_type": "code",
   "execution_count": null,
   "metadata": {},
   "outputs": [],
   "source": []
  }
 ],
 "metadata": {
  "kernelspec": {
   "display_name": "Python 3",
   "language": "python",
   "name": "python3"
  },
  "language_info": {
   "codemirror_mode": {
    "name": "ipython",
    "version": 3
   },
   "file_extension": ".py",
   "mimetype": "text/x-python",
   "name": "python",
   "nbconvert_exporter": "python",
   "pygments_lexer": "ipython3",
   "version": "3.7.1"
  }
 },
 "nbformat": 4,
 "nbformat_minor": 2
}
