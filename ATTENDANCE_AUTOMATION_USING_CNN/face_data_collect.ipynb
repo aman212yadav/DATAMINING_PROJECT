{
  "cells": [
    {
      "metadata": {
        "trusted": true
      },
      "cell_type": "code",
      "source": "import numpy as np\nimport cv2",
      "execution_count": 1,
      "outputs": []
    },
    {
      "metadata": {
        "trusted": true
      },
      "cell_type": "code",
      "source": "rollno=input('Enter student roll no : ')",
      "execution_count": 2,
      "outputs": [
        {
          "output_type": "stream",
          "name": "stdout",
          "text": "Enter student roll no : 171210041\n"
        }
      ]
    },
    {
      "metadata": {
        "trusted": true
      },
      "cell_type": "code",
      "source": "cascade=cv2.CascadeClassifier(\"haarcascade_frontalface_default.xml\") \ncap=cv2.VideoCapture(0)",
      "execution_count": 4,
      "outputs": []
    },
    {
      "metadata": {
        "trusted": true
      },
      "cell_type": "code",
      "source": "face_data=[]\nskip=0\ncount=0\nwhile True:\n    ret,frame=cap.read()\n    if not ret:\n        continue\n    faces=cascade.detectMultiScale(frame, 1.3, 4)\n    faces=sorted(faces,key=lambda k :k[2]*k[3])\n    for (x,y,w,h) in faces[-1:]:\n        cv2.rectangle(frame,(x,y),(x+w,y+h),(255,0,0),2)\n        offset=10\n        face_section=frame[y-offset:y+h+offset,x-offset:x+offset+w]\n        face_section=cv2.resize(face_section,(100,100),interpolation = cv2.INTER_AREA)\n        if skip%10==0:\n            face_data.append(face_section)\n            count+=1\n            print(\"total images taken : \",count) \n            \n    skip+=1\n    cv2.imshow(\"frame2\",face_section)    \n    cv2.imshow(\"frame1\",frame)    \n    if cv2.waitKey(1) & 0xFF == ord('q'):\n        break\ncap.release()    \ncv2.destroyAllWindows()     \n            \n",
      "execution_count": null,
      "outputs": []
    },
    {
      "metadata": {
        "trusted": false
      },
      "cell_type": "code",
      "source": "face_data=np.array(face_data)",
      "execution_count": 17,
      "outputs": []
    },
    {
      "metadata": {
        "trusted": false
      },
      "cell_type": "code",
      "source": "face_data=face_data.reshape(face_data.shape[0],-1)\n\nnp.save('dataset/'+rollno+'.npy',face_data)",
      "execution_count": 18,
      "outputs": []
    },
    {
      "metadata": {
        "trusted": false
      },
      "cell_type": "code",
      "source": "p=[1,2,3]",
      "execution_count": 1,
      "outputs": []
    },
    {
      "metadata": {
        "trusted": false
      },
      "cell_type": "code",
      "source": "np.array(p).shape[0]",
      "execution_count": 6,
      "outputs": [
        {
          "data": {
            "text/plain": "3"
          },
          "execution_count": 6,
          "metadata": {},
          "output_type": "execute_result"
        }
      ]
    },
    {
      "metadata": {
        "trusted": false
      },
      "cell_type": "code",
      "source": "",
      "execution_count": null,
      "outputs": []
    }
  ],
  "metadata": {
    "kernelspec": {
      "name": "python3",
      "display_name": "Python 3",
      "language": "python"
    },
    "language_info": {
      "mimetype": "text/x-python",
      "nbconvert_exporter": "python",
      "name": "python",
      "pygments_lexer": "ipython3",
      "version": "3.5.4",
      "file_extension": ".py",
      "codemirror_mode": {
        "version": 3,
        "name": "ipython"
      }
    }
  },
  "nbformat": 4,
  "nbformat_minor": 2
}